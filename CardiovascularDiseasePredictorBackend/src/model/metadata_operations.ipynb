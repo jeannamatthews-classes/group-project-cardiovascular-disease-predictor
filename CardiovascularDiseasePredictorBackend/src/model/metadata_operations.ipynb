{
 "cells": [
  {
   "cell_type": "markdown",
   "id": "8c9ec735-0351-4d77-9028-4eb324d36cbb",
   "metadata": {},
   "source": [
    "<h1 style=\"background-color:rgba(88, 139, 174, 0.6);\">Import Libraries</h1>"
   ]
  },
  {
   "cell_type": "code",
   "execution_count": 1,
   "id": "c3989792-64d2-49c9-94c3-b82f4eb6c70c",
   "metadata": {},
   "outputs": [],
   "source": [
    "import pandas as pd\n",
    "import seaborn as sns\n",
    "import matplotlib.pyplot as plt\n",
    "import seaborn.objects as so\n",
    "import warnings\n",
    "import os\n",
    "import math\n",
    "import numpy as np"
   ]
  },
  {
   "cell_type": "markdown",
   "id": "90102be3-0d7c-4163-8a52-c342a93366b3",
   "metadata": {},
   "source": [
    "<h1 style=\"background-color:rgba(88, 139, 174, 0.6);\">Methods & Configs</h1>"
   ]
  },
  {
   "cell_type": "code",
   "execution_count": 2,
   "id": "740c0bbe-9247-4438-9f03-d136268a4d87",
   "metadata": {},
   "outputs": [],
   "source": [
    "resource_directory= \"../../resource\""
   ]
  },
  {
   "cell_type": "code",
   "execution_count": 4,
   "id": "70f96985-6064-4e30-99a5-ffb489753009",
   "metadata": {},
   "outputs": [
    {
     "ename": "NameError",
     "evalue": "name 'cvd_feature_data' is not defined",
     "output_type": "error",
     "traceback": [
      "\u001b[0;31m---------------------------------------------------------------------------\u001b[0m",
      "\u001b[0;31mNameError\u001b[0m                                 Traceback (most recent call last)",
      "Cell \u001b[0;32mIn[4], line 2\u001b[0m\n\u001b[1;32m      1\u001b[0m headings \u001b[38;5;241m=\u001b[39m pd\u001b[38;5;241m.\u001b[39mread_csv(os\u001b[38;5;241m.\u001b[39mpath\u001b[38;5;241m.\u001b[39mjoin(resource_directory, \u001b[38;5;124m\"\u001b[39m\u001b[38;5;124mtable_headings.csv\u001b[39m\u001b[38;5;124m\"\u001b[39m))\n\u001b[0;32m----> 2\u001b[0m headings \u001b[38;5;241m=\u001b[39m headings[headings[\u001b[38;5;124m\"\u001b[39m\u001b[38;5;124mTable Heading\u001b[39m\u001b[38;5;124m\"\u001b[39m]\u001b[38;5;241m.\u001b[39misin(\u001b[43mcvd_feature_data\u001b[49m\u001b[38;5;241m.\u001b[39mcolumns)]\n\u001b[1;32m      3\u001b[0m output_filename \u001b[38;5;241m=\u001b[39m os\u001b[38;5;241m.\u001b[39mpath\u001b[38;5;241m.\u001b[39mjoin(resource_directory, \u001b[38;5;124m\"\u001b[39m\u001b[38;5;124mfeature_names.csv\u001b[39m\u001b[38;5;124m\"\u001b[39m)\n\u001b[1;32m      4\u001b[0m \u001b[38;5;66;03m#headings.to_csv(output_filename, index=False)\u001b[39;00m\n",
      "\u001b[0;31mNameError\u001b[0m: name 'cvd_feature_data' is not defined"
     ]
    }
   ],
   "source": [
    "headings = pd.read_csv(os.path.join(resource_directory, \"table_headings.csv\"))\n",
    "headings = headings[headings[\"Table Heading\"].isin(cvd_feature_data.columns)]\n",
    "output_filename = os.path.join(resource_directory, \"feature_names.csv\")\n",
    "#headings.to_csv(output_filename, index=False)\n",
    "headings[\"Explanatory Name\"]"
   ]
  },
  {
   "cell_type": "code",
   "execution_count": null,
   "id": "24e62eb4-76cf-4849-81f4-097be29d04ec",
   "metadata": {},
   "outputs": [],
   "source": []
  }
 ],
 "metadata": {
  "kernelspec": {
   "display_name": "Python 3 (ipykernel)",
   "language": "python",
   "name": "python3"
  },
  "language_info": {
   "codemirror_mode": {
    "name": "ipython",
    "version": 3
   },
   "file_extension": ".py",
   "mimetype": "text/x-python",
   "name": "python",
   "nbconvert_exporter": "python",
   "pygments_lexer": "ipython3",
   "version": "3.9.13"
  }
 },
 "nbformat": 4,
 "nbformat_minor": 5
}
